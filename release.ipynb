{
 "cells": [
  {
   "cell_type": "code",
   "execution_count": null,
   "metadata": {},
   "outputs": [],
   "source": [
    "import pandas\n",
    "import numpy as np\n",
    "import matplotlib.pyplot as plt\n",
    "import warnings \n",
    "\n",
    "import statsmodels.api as sm\n",
    "import statsmodels.formula.api as smf          \n",
    "import statsmodels.tsa.api as smt\n",
    "from statsmodels.graphics.tsaplots import plot_acf, plot_pacf\n",
    "from statsmodels.tsa.arima.model import ARIMA\n",
    "from statsmodels.tsa.stattools import adfuller\n",
    "\n",
    "import mylib"
   ]
  },
  {
   "cell_type": "markdown",
   "metadata": {},
   "source": [
    "# Часть 1"
   ]
  },
  {
   "cell_type": "markdown",
   "metadata": {},
   "source": [
    "### Считывание данных"
   ]
  },
  {
   "cell_type": "code",
   "execution_count": null,
   "metadata": {},
   "outputs": [],
   "source": [
    "dataFrame = mylib.default_reader('Данные.xlsx')\n",
    "\n",
    "plt.plot(dataFrame['Value'], label='Values')\n",
    "plt.legend(fontsize=8)\n",
    "plt.show()"
   ]
  },
  {
   "cell_type": "markdown",
   "metadata": {},
   "source": [
    "### Скользящие статистики"
   ]
  },
  {
   "cell_type": "code",
   "execution_count": null,
   "metadata": {},
   "outputs": [],
   "source": [
    "mylib.moving_statistics(dataFrame)\n",
    "\n",
    "plt.show()"
   ]
  },
  {
   "cell_type": "markdown",
   "metadata": {},
   "source": [
    "Как видно по графику, временной ряд имеет тренд роста, и не является стационарным. Стандартное отклонение примерно одинаково для простой скользящей статистики."
   ]
  },
  {
   "cell_type": "markdown",
   "metadata": {},
   "source": [
    "### Тест Дики-Фуллера"
   ]
  },
  {
   "cell_type": "code",
   "execution_count": null,
   "metadata": {},
   "outputs": [],
   "source": [
    "result = adfuller(dataFrame.Value)\n",
    "\n",
    "print('ADF Statistic: %f' % result[0])\n",
    "print('p-value: %f' % result[1])\n",
    "print('Critical Values:')\n",
    "for key, value in result[4].items():\n",
    "    print('\\t%s: %.3f' % (key, value))"
   ]
  },
  {
   "cell_type": "markdown",
   "metadata": {},
   "source": [
    "Гипотезу о нестационарности нельзя опровергуть, потому что ADF statistic сильно больше критических значений.\n",
    "Вероятность ошибки при опровержении этой гипотезы - 0.93"
   ]
  },
  {
   "cell_type": "markdown",
   "metadata": {},
   "source": [
    "### Выводы"
   ]
  },
  {
   "cell_type": "markdown",
   "metadata": {},
   "source": [
    "Нестационарность легко определяется по графику, и тест Дики-Фуллера подтвержает это.\n",
    "Наличие тренда очевидно."
   ]
  },
  {
   "cell_type": "markdown",
   "metadata": {},
   "source": [
    "# Часть 2"
   ]
  },
  {
   "cell_type": "markdown",
   "metadata": {},
   "source": [
    "### Тренд, сезональность и остаток аддитивной модели"
   ]
  },
  {
   "cell_type": "code",
   "execution_count": null,
   "metadata": {},
   "outputs": [],
   "source": [
    "mylib.seasonal_decompose_plots(dataFrame, 'additive')"
   ]
  },
  {
   "cell_type": "markdown",
   "metadata": {},
   "source": [
    "### Тренд, сезональность и остаток мультиптикативной модели"
   ]
  },
  {
   "cell_type": "code",
   "execution_count": null,
   "metadata": {},
   "outputs": [],
   "source": [
    "mylib.seasonal_decompose_plots(dataFrame, 'multiplicative')"
   ]
  },
  {
   "cell_type": "markdown",
   "metadata": {},
   "source": [
    "### Выводы"
   ]
  },
  {
   "cell_type": "markdown",
   "metadata": {},
   "source": [
    "Как и было замечено, тренд присутсвует, сезональность также присутсвует. Остаток кажется нестационарным поскольку имеется большая дисперсия в 1960-ом, 1975-ом и 1980-ом году."
   ]
  },
  {
   "cell_type": "markdown",
   "metadata": {},
   "source": [
    "# Часть 3"
   ]
  },
  {
   "cell_type": "markdown",
   "metadata": {},
   "source": [
    "### Проверка на интегрированный ряд порядка k"
   ]
  },
  {
   "cell_type": "markdown",
   "metadata": {},
   "source": [
    "Используем тест Дики-Фуллера для определения стационарности ряда из разности порядка k с уровнем значимости в 0.01"
   ]
  },
  {
   "cell_type": "code",
   "execution_count": null,
   "metadata": {},
   "outputs": [],
   "source": [
    "mylib.check_periodic(dataFrame.Value, 1, printAns=True, plotting=True)"
   ]
  },
  {
   "cell_type": "markdown",
   "metadata": {},
   "source": [
    "По тесту Дики-Фуллера и по визуализации видно, что временной ряд - интегрированный порядка 1"
   ]
  },
  {
   "cell_type": "markdown",
   "metadata": {},
   "source": [
    "### Моделирование ARIMA"
   ]
  },
  {
   "cell_type": "markdown",
   "metadata": {},
   "source": [
    "Для модели ARIMA необходимо знать параметры <br>\n",
    "p - порядок компоненты AR <br>\n",
    "d - порядок интегрированного ряда <br>\n",
    "q - порядок компонетны MA <br>\n",
    "\n",
    "q = 1, что установлено в предыдущем отделе <br>\n",
    "остальные два параметра определяются по графику автокорелляции и частичной автокорелляции"
   ]
  },
  {
   "cell_type": "code",
   "execution_count": null,
   "metadata": {},
   "outputs": [],
   "source": [
    "mylib.autocorrelation_plots(dataFrame, 1)"
   ]
  },
  {
   "cell_type": "markdown",
   "metadata": {},
   "source": [
    "p = 1 т.к. 1й лаг сильно отличен от 0 <br>\n",
    "q = 4 т.к. после 4го лага значения достаточно близки к 0 <br>\n",
    "\n",
    "имеет смысл также рассмотреть модели при p = 0 (потому что 1ый лаг все же на 0.5) и q = 5"
   ]
  },
  {
   "cell_type": "code",
   "execution_count": null,
   "metadata": {},
   "outputs": [],
   "source": [
    "p = 1\n",
    "d = 1\n",
    "q = 4"
   ]
  },
  {
   "cell_type": "code",
   "execution_count": null,
   "metadata": {},
   "outputs": [],
   "source": [
    "# frequency information is a bit mysterious\n",
    "warnings.simplefilter(action='ignore')\n",
    "\n",
    "model114 = ARIMA(dataFrame.Value, order=(p, d, q)).fit()\n",
    "model014 = ARIMA(dataFrame.Value, order=(p - 1, d, q)).fit()\n",
    "model015 = ARIMA(dataFrame.Value, order=(p - 1, d, q + 1)).fit()"
   ]
  },
  {
   "cell_type": "code",
   "execution_count": null,
   "metadata": {},
   "outputs": [],
   "source": [
    "answersData = mylib.default_reader('Ответы.xlsx')"
   ]
  },
  {
   "cell_type": "code",
   "execution_count": null,
   "metadata": {},
   "outputs": [],
   "source": [
    "mylib.predict(model114, answersData)"
   ]
  },
  {
   "cell_type": "code",
   "execution_count": null,
   "metadata": {},
   "outputs": [],
   "source": [
    "mylib.predict(model014, answersData)"
   ]
  },
  {
   "cell_type": "code",
   "execution_count": null,
   "metadata": {},
   "outputs": [],
   "source": [
    "mylib.predict(model015, answersData)"
   ]
  },
  {
   "cell_type": "code",
   "execution_count": null,
   "metadata": {},
   "outputs": [],
   "source": [
    "print(model114.aic)\n",
    "print(model014.aic)\n",
    "print(model015.aic)"
   ]
  },
  {
   "cell_type": "markdown",
   "metadata": {},
   "source": [
    "Следовательно, лучшая модель - ARIMA(0, 1, 5)"
   ]
  },
  {
   "cell_type": "markdown",
   "metadata": {},
   "source": [
    "# Выводы"
   ]
  },
  {
   "cell_type": "markdown",
   "metadata": {},
   "source": [
    "Визуально получилось достаточно точно предугадать значения временного ряда. Значения r2_score высокие.\n",
    "Изначальная модель выбрана неверно"
   ]
  },
  {
   "cell_type": "markdown",
   "metadata": {},
   "source": [
    "## Постскриптум"
   ]
  },
  {
   "cell_type": "markdown",
   "metadata": {},
   "source": [
    "ARIMA не работает вообще нигде, почему - неясно. В гугл колабе значения в районе 0. На моей машине - с какого-то момента константа. В интернете такой проблемы не было."
   ]
  },
  {
   "cell_type": "code",
   "execution_count": null,
   "metadata": {},
   "outputs": [],
   "source": []
  }
 ],
 "metadata": {
  "kernelspec": {
   "display_name": "Python 3 (ipykernel)",
   "language": "python",
   "name": "python3"
  },
  "language_info": {
   "codemirror_mode": {
    "name": "ipython",
    "version": 3
   },
   "file_extension": ".py",
   "mimetype": "text/x-python",
   "name": "python",
   "nbconvert_exporter": "python",
   "pygments_lexer": "ipython3",
   "version": "3.8.2"
  }
 },
 "nbformat": 4,
 "nbformat_minor": 2
}
